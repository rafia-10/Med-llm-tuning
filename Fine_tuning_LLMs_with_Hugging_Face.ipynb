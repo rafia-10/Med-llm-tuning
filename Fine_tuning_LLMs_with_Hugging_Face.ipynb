{
 "cells": [
  {
   "cell_type": "markdown",
   "id": "bf90d0e5-f50b-4693-a7e6-1494724cc8d0",
   "metadata": {},
   "source": [
    "### Fine-Tunning LLMs with Hugging Face"
   ]
  },
  {
   "cell_type": "markdown",
   "id": "09574636-1635-41f9-a4fe-b6ebfcf7f035",
   "metadata": {},
   "source": [
    "### step-1: import all the necessary libraries"
   ]
  },
  {
   "cell_type": "code",
   "execution_count": 4,
   "id": "e41a5aa8-d195-410a-9039-58a361d777f8",
   "metadata": {},
   "outputs": [],
   "source": [
    "import torch\n",
    "from trl import SFTTrainer\n",
    "from peft import LoraConfig\n",
    "from datasets import load_dataset\n",
    "from transformers import (AutoModelForCausalLM, AutoTokenizer, BitsAndBytesConfig, TrainingArguments, pipeline)"
   ]
  },
  {
   "cell_type": "markdown",
   "id": "cbc1b4f5-a044-4f3f-9d8e-c1766324c1d7",
   "metadata": {},
   "source": [
    "### Loading the model"
   ]
  },
  {
   "cell_type": "code",
   "execution_count": null,
   "id": "9379d412-b436-4df9-8cad-2d1be38c1b7c",
   "metadata": {},
   "outputs": [],
   "source": []
  }
 ],
 "metadata": {
  "kernelspec": {
   "display_name": "Python 3 (ipykernel)",
   "language": "python",
   "name": "python3"
  },
  "language_info": {
   "codemirror_mode": {
    "name": "ipython",
    "version": 3
   },
   "file_extension": ".py",
   "mimetype": "text/x-python",
   "name": "python",
   "nbconvert_exporter": "python",
   "pygments_lexer": "ipython3",
   "version": "3.10.11"
  }
 },
 "nbformat": 4,
 "nbformat_minor": 5
}
