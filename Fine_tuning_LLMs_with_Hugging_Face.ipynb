{
 "cells": [
  {
   "cell_type": "markdown",
   "id": "bf90d0e5-f50b-4693-a7e6-1494724cc8d0",
   "metadata": {},
   "source": [
    "### Fine-Tunning LLMs with Hugging Face"
   ]
  },
  {
   "cell_type": "markdown",
   "id": "09574636-1635-41f9-a4fe-b6ebfcf7f035",
   "metadata": {},
   "source": [
    "### step-1: import all the necessary libraries"
   ]
  },
  {
   "cell_type": "code",
   "execution_count": 3,
   "id": "e41a5aa8-d195-410a-9039-58a361d777f8",
   "metadata": {},
   "outputs": [],
   "source": [
    "import torch\n",
    "from trl import SFTTrainer\n",
    "from peft import LoraConfig\n",
    "from datasets import load_dataset\n",
    "from transformers import (AutoModelForCausalLM, AutoTokenizer, BitsAndBytesConfig, TrainingArguments, pipeline)"
   ]
  },
  {
   "cell_type": "markdown",
   "id": "cbc1b4f5-a044-4f3f-9d8e-c1766324c1d7",
   "metadata": {},
   "source": [
    "### Loading the model"
   ]
  },
  {
   "cell_type": "markdown",
   "id": "85186592-50d5-4893-93dc-b6d55c6c2414",
   "metadata": {},
   "source": [
    "### Loading the tokenizer"
   ]
  },
  {
   "cell_type": "code",
   "execution_count": null,
   "id": "e3cf8578-9373-478c-a0ab-7c02b478d67c",
   "metadata": {},
   "outputs": [],
   "source": [
    "llama_model = AutoModelForCausalLM.from_pretrained(pretrained_model_name_or_path = \"aboonaji/llama2finetune-v2\",\n",
    "                                                   quantization_config = BitsAndBytesConfig(load_in_4bit = True,\n",
    "                                                                                            bnb_4bit_compute_dtype = getattr(torch, \"float16\"),\n",
    "                                                                                            bnb_4bit_quant_type = \"nf4\"))\n",
    "llama_model.config.use_cache = False\n",
    "llama_model.config.pretraining_tp = 1"
   ]
  },
  {
   "cell_type": "code",
   "execution_count": null,
   "id": "5cd69001-4dfa-46de-a041-2aba1ddf2498",
   "metadata": {},
   "outputs": [],
   "source": [
    "llama_tokenizer = AutoTokenizer.from_pretrained()"
   ]
  }
 ],
 "metadata": {
  "kernelspec": {
   "display_name": "Python 3 (ipykernel)",
   "language": "python",
   "name": "python3"
  },
  "language_info": {
   "codemirror_mode": {
    "name": "ipython",
    "version": 3
   },
   "file_extension": ".py",
   "mimetype": "text/x-python",
   "name": "python",
   "nbconvert_exporter": "python",
   "pygments_lexer": "ipython3",
   "version": "3.10.11"
  }
 },
 "nbformat": 4,
 "nbformat_minor": 5
}
